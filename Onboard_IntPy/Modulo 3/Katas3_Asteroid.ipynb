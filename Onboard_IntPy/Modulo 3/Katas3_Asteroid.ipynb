{
 "cells": [
  {
   "cell_type": "markdown",
   "metadata": {},
   "source": [
    "## Alerta de Asteroide !"
   ]
  },
  {
   "cell_type": "code",
   "execution_count": 15,
   "metadata": {},
   "outputs": [
    {
     "name": "stdout",
     "output_type": "stream",
     "text": [
      "¡Tranquilo, No hay problema!\n"
     ]
    }
   ],
   "source": [
    "asteroide = 20\n",
    "if asteroide > 25:\n",
    "    print('¡Peligro! ¡Un asteroide se acerca a gran Velocidad!')\n",
    "else:\n",
    "    print('¡Tranquilo, No hay problema!')"
   ]
  },
  {
   "cell_type": "markdown",
   "metadata": {},
   "source": [
    "# Luz Magica en el Cielo"
   ]
  },
  {
   "cell_type": "code",
   "execution_count": 16,
   "metadata": {},
   "outputs": [
    {
     "name": "stdout",
     "output_type": "stream",
     "text": [
      "¡Que cielo tan Obscuro!\n"
     ]
    }
   ],
   "source": [
    "asteroide = 19\n",
    "if asteroide > 20:\n",
    "    print('Mira! ¡Hay una luz mágica en el cielo!')\n",
    "elif asteroide == 20:\n",
    "    print('Wowww! ¡Hay una luz mágica en el cielo!')\n",
    "else:\n",
    "    print('¡Que cielo tan Obscuro!')"
   ]
  },
  {
   "cell_type": "markdown",
   "metadata": {},
   "source": [
    "# Alerta de Asteroides y Estrellas Fugaces"
   ]
  },
  {
   "cell_type": "code",
   "execution_count": 22,
   "metadata": {},
   "outputs": [
    {
     "name": "stdout",
     "output_type": "stream",
     "text": [
      "¡Que cielo tan Obscuro!\n"
     ]
    }
   ],
   "source": [
    "velocidad_asteroide = 15\n",
    "tamano_asteroide = 15\n",
    "if velocidad_asteroide > 25 and tamano_asteroide > 25:\n",
    "    print('¡Peligro! ¡Un asteroide se acerca a gran Velocidad!')\n",
    "elif velocidad_asteroide >= 20:\n",
    "    print('Wowww! ¡Hay una luz mágica en el cielo!')\n",
    "elif tamano_asteroide < 25:\n",
    "    print('¡Que cielo tan Obscuro!')\n",
    "else:\n",
    "    print('¡Que cielo tan Obscuro!')"
   ]
  }
 ],
 "metadata": {
  "interpreter": {
   "hash": "c134bc6be74e417b1ecab24b135d41e2b01e71980219cbd4b7661e5e9646ab6b"
  },
  "kernelspec": {
   "display_name": "Python 3.10.2 64-bit (windows store)",
   "language": "python",
   "name": "python3"
  },
  "language_info": {
   "codemirror_mode": {
    "name": "ipython",
    "version": 3
   },
   "file_extension": ".py",
   "mimetype": "text/x-python",
   "name": "python",
   "nbconvert_exporter": "python",
   "pygments_lexer": "ipython3",
   "version": "3.10.2"
  },
  "orig_nbformat": 4
 },
 "nbformat": 4,
 "nbformat_minor": 2
}
