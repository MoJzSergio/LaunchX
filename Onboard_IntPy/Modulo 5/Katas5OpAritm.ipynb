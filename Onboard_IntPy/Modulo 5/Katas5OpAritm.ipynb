{
 "cells": [
  {
   "cell_type": "markdown",
   "metadata": {},
   "source": [
    "# Distancia Entre Planetas"
   ]
  },
  {
   "cell_type": "code",
   "execution_count": 1,
   "metadata": {},
   "outputs": [
    {
     "name": "stdout",
     "output_type": "stream",
     "text": [
      "628949330\n",
      "390577533.93\n"
     ]
    }
   ],
   "source": [
    "planet_p1 = 149597870\n",
    "planet_p2 = 778547200\n",
    "\n",
    "distance_km = planet_p2 - planet_p1\n",
    "print(distance_km)\n",
    "\n",
    "distance_mi = distance_km * 0.621\n",
    "print(distance_mi)"
   ]
  },
  {
   "cell_type": "code",
   "execution_count": 2,
   "metadata": {},
   "outputs": [
    {
     "name": "stdout",
     "output_type": "stream",
     "text": [
      "7207000000\n",
      "4475547000.0\n"
     ]
    }
   ],
   "source": [
    "planet_p1 = input('Introduzca la distancia desde el sol para el primer planeta en KM')\n",
    "planet_p2 = input('Introduzca la distancia desde el sol para el segundo planeta en KM')\n",
    "\n",
    "\n",
    "planet_p1 = int(planet_p1)\n",
    "planet_p2 = int(planet_p2)\n",
    "\n",
    "\n",
    "distance_km = planet_p2 - planet_p1\n",
    "print(distance_km)\n",
    "\n",
    "\n",
    "distance_mi = distance_km * 0.621\n",
    "print(abs(distance_mi))\n",
    "\n"
   ]
  }
 ],
 "metadata": {
  "interpreter": {
   "hash": "c134bc6be74e417b1ecab24b135d41e2b01e71980219cbd4b7661e5e9646ab6b"
  },
  "kernelspec": {
   "display_name": "Python 3.10.2 64-bit (windows store)",
   "language": "python",
   "name": "python3"
  },
  "language_info": {
   "codemirror_mode": {
    "name": "ipython",
    "version": 3
   },
   "file_extension": ".py",
   "mimetype": "text/x-python",
   "name": "python",
   "nbconvert_exporter": "python",
   "pygments_lexer": "ipython3",
   "version": "3.10.2"
  },
  "orig_nbformat": 4
 },
 "nbformat": 4,
 "nbformat_minor": 2
}
